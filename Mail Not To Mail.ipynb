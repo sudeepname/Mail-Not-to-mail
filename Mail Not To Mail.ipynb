{
 "cells": [
  {
   "cell_type": "code",
   "execution_count": 1,
   "metadata": {},
   "outputs": [],
   "source": [
    "import numpy as np\n",
    "import pandas as pd\n",
    "import xgboost as xgb"
   ]
  },
  {
   "cell_type": "code",
   "execution_count": 2,
   "metadata": {},
   "outputs": [],
   "source": [
    "c_train = pd.read_csv('E:\\\\edvancer\\\\documents\\\\Python\\\\Project 2\\\\carvan_train (1).csv')"
   ]
  },
  {
   "cell_type": "code",
   "execution_count": 3,
   "metadata": {},
   "outputs": [],
   "source": [
    "c_test = pd.read_csv('E:\\\\edvancer\\\\documents\\\\Python\\\\Project 2\\\\carvan_test.csv')"
   ]
  },
  {
   "cell_type": "code",
   "execution_count": 4,
   "metadata": {},
   "outputs": [],
   "source": [
    "c_test[\"V86\"]=np.nan"
   ]
  },
  {
   "cell_type": "code",
   "execution_count": 5,
   "metadata": {},
   "outputs": [],
   "source": [
    "import math"
   ]
  },
  {
   "cell_type": "code",
   "execution_count": 6,
   "metadata": {},
   "outputs": [],
   "source": [
    "c_train['data'] = 'train'"
   ]
  },
  {
   "cell_type": "code",
   "execution_count": 7,
   "metadata": {},
   "outputs": [],
   "source": [
    "c_test['data']= 'test'"
   ]
  },
  {
   "cell_type": "code",
   "execution_count": 8,
   "metadata": {},
   "outputs": [],
   "source": [
    "c_test = c_test[c_train.columns]\n",
    "c_all = pd.concat([c_train,c_test],axis=0)"
   ]
  },
  {
   "cell_type": "code",
   "execution_count": 9,
   "metadata": {},
   "outputs": [
    {
     "name": "stdout",
     "output_type": "stream",
     "text": [
      "<class 'pandas.core.frame.DataFrame'>\n",
      "Int64Index: 9822 entries, 0 to 3999\n",
      "Data columns (total 87 columns):\n",
      "V1      9822 non-null int64\n",
      "V2      9822 non-null int64\n",
      "V3      9822 non-null int64\n",
      "V4      9822 non-null int64\n",
      "V5      9822 non-null int64\n",
      "V6      9822 non-null int64\n",
      "V7      9822 non-null int64\n",
      "V8      9822 non-null int64\n",
      "V9      9822 non-null int64\n",
      "V10     9822 non-null int64\n",
      "V11     9822 non-null int64\n",
      "V12     9822 non-null int64\n",
      "V13     9822 non-null int64\n",
      "V14     9822 non-null int64\n",
      "V15     9822 non-null int64\n",
      "V16     9822 non-null int64\n",
      "V17     9822 non-null int64\n",
      "V18     9822 non-null int64\n",
      "V19     9822 non-null int64\n",
      "V20     9822 non-null int64\n",
      "V21     9822 non-null int64\n",
      "V22     9822 non-null int64\n",
      "V23     9822 non-null int64\n",
      "V24     9822 non-null int64\n",
      "V25     9822 non-null int64\n",
      "V26     9822 non-null int64\n",
      "V27     9822 non-null int64\n",
      "V28     9822 non-null int64\n",
      "V29     9822 non-null int64\n",
      "V30     9822 non-null int64\n",
      "V31     9822 non-null int64\n",
      "V32     9822 non-null int64\n",
      "V33     9822 non-null int64\n",
      "V34     9822 non-null int64\n",
      "V35     9822 non-null int64\n",
      "V36     9822 non-null int64\n",
      "V37     9822 non-null int64\n",
      "V38     9822 non-null int64\n",
      "V39     9822 non-null int64\n",
      "V40     9822 non-null int64\n",
      "V41     9822 non-null int64\n",
      "V42     9822 non-null int64\n",
      "V43     9822 non-null int64\n",
      "V44     9822 non-null int64\n",
      "V45     9822 non-null int64\n",
      "V46     9822 non-null int64\n",
      "V47     9822 non-null int64\n",
      "V48     9822 non-null int64\n",
      "V49     9822 non-null int64\n",
      "V50     9822 non-null int64\n",
      "V51     9822 non-null int64\n",
      "V52     9822 non-null int64\n",
      "V53     9822 non-null int64\n",
      "V54     9822 non-null int64\n",
      "V55     9822 non-null int64\n",
      "V56     9822 non-null int64\n",
      "V57     9822 non-null int64\n",
      "V58     9822 non-null int64\n",
      "V59     9822 non-null int64\n",
      "V60     9822 non-null int64\n",
      "V61     9822 non-null int64\n",
      "V62     9822 non-null int64\n",
      "V63     9822 non-null int64\n",
      "V64     9822 non-null int64\n",
      "V65     9822 non-null int64\n",
      "V66     9822 non-null int64\n",
      "V67     9822 non-null int64\n",
      "V68     9822 non-null int64\n",
      "V69     9822 non-null int64\n",
      "V70     9822 non-null int64\n",
      "V71     9822 non-null int64\n",
      "V72     9822 non-null int64\n",
      "V73     9822 non-null int64\n",
      "V74     9822 non-null int64\n",
      "V75     9822 non-null int64\n",
      "V76     9822 non-null int64\n",
      "V77     9822 non-null int64\n",
      "V78     9822 non-null int64\n",
      "V79     9822 non-null int64\n",
      "V80     9822 non-null int64\n",
      "V81     9822 non-null int64\n",
      "V82     9822 non-null int64\n",
      "V83     9822 non-null int64\n",
      "V84     9822 non-null int64\n",
      "V85     9822 non-null int64\n",
      "V86     5822 non-null float64\n",
      "data    9822 non-null object\n",
      "dtypes: float64(1), int64(85), object(1)\n",
      "memory usage: 6.6+ MB\n"
     ]
    }
   ],
   "source": [
    "c_all.info()"
   ]
  },
  {
   "cell_type": "code",
   "execution_count": 10,
   "metadata": {},
   "outputs": [
    {
     "name": "stdout",
     "output_type": "stream",
     "text": [
      "V1 : \n",
      "  33    1401\n",
      "38     569\n",
      "8      546\n",
      "39     542\n",
      "9      460\n",
      "3      433\n",
      "23     376\n",
      "36     373\n",
      "35     362\n",
      "41     355\n",
      "34     325\n",
      "24     324\n",
      "31     318\n",
      "13     302\n",
      "11     286\n",
      "10     271\n",
      "32     234\n",
      "37     233\n",
      "1      218\n",
      "6      209\n",
      "12     194\n",
      "30     190\n",
      "22     169\n",
      "2      148\n",
      "29     139\n",
      "40     137\n",
      "25     129\n",
      "4       90\n",
      "26      79\n",
      "27      77\n",
      "7       72\n",
      "5       70\n",
      "20      42\n",
      "28      41\n",
      "21      29\n",
      "18      27\n",
      "16      25\n",
      "17      13\n",
      "15       7\n",
      "19       7\n",
      "Name: V1, dtype: int64\n",
      "V2 : \n",
      "  1     8915\n",
      "2      821\n",
      "3       64\n",
      "7        8\n",
      "4        4\n",
      "6        3\n",
      "5        3\n",
      "10       2\n",
      "8        2\n",
      "Name: V2, dtype: int64\n",
      "V3 : \n",
      "  3    4513\n",
      "2    3616\n",
      "4    1132\n",
      "1     452\n",
      "5     106\n",
      "6       3\n",
      "Name: V3, dtype: int64\n",
      "V4 : \n",
      "  3    5154\n",
      "2    2409\n",
      "4    1777\n",
      "5     329\n",
      "1     104\n",
      "6      49\n",
      "Name: V4, dtype: int64\n",
      "V5 : \n",
      "  8     2694\n",
      "3     1513\n",
      "9     1111\n",
      "1      959\n",
      "5      940\n",
      "7      881\n",
      "2      827\n",
      "10     492\n",
      "6      326\n",
      "4       79\n",
      "Name: V5, dtype: int64\n",
      "V6 : \n",
      "  0    5420\n",
      "1    2744\n",
      "2    1213\n",
      "3     243\n",
      "4     123\n",
      "5      30\n",
      "6      25\n",
      "7      11\n",
      "9      10\n",
      "8       3\n",
      "Name: V6, dtype: int64\n",
      "V7 : \n",
      "  4    2666\n",
      "5    2533\n",
      "6    1180\n",
      "3    1022\n",
      "7     995\n",
      "2     666\n",
      "9     290\n",
      "1     225\n",
      "0     127\n",
      "8     118\n",
      "Name: V7, dtype: int64\n",
      "V8 : \n",
      "  0    3460\n",
      "1    3391\n",
      "2    2294\n",
      "3     415\n",
      "4     220\n",
      "5      42\n",
      "Name: V8, dtype: int64\n",
      "V9 : \n",
      "  3    2476\n",
      "4    2245\n",
      "2    1778\n",
      "5    1572\n",
      "0     773\n",
      "6     394\n",
      "1     378\n",
      "7     179\n",
      "9      14\n",
      "8      13\n",
      "Name: V9, dtype: int64\n",
      "V10 : \n",
      "  7    2800\n",
      "6    2015\n",
      "5    1628\n",
      "9    1345\n",
      "8     603\n",
      "4     550\n",
      "3     402\n",
      "2     252\n",
      "1     119\n",
      "0     108\n",
      "Name: V10, dtype: int64\n",
      "V11 : \n",
      "  0    4185\n",
      "1    3402\n",
      "2    1790\n",
      "3     260\n",
      "4     133\n",
      "5      32\n",
      "6      18\n",
      "7       2\n",
      "Name: V11, dtype: int64\n",
      "V12 : \n",
      "  2    2944\n",
      "0    1981\n",
      "3    1965\n",
      "4    1140\n",
      "1     900\n",
      "5     421\n",
      "6     299\n",
      "7     100\n",
      "9      41\n",
      "8      31\n",
      "Name: V12, dtype: int64\n",
      "V13 : \n",
      "  0    2916\n",
      "2    2143\n",
      "1    1619\n",
      "3    1439\n",
      "4     890\n",
      "5     416\n",
      "6     222\n",
      "7     107\n",
      "8      36\n",
      "9      34\n",
      "Name: V13, dtype: int64\n",
      "V14 : \n",
      "  3    2517\n",
      "4    2493\n",
      "2    1798\n",
      "5    1043\n",
      "0     613\n",
      "1     608\n",
      "6     516\n",
      "7     160\n",
      "9      47\n",
      "8      27\n",
      "Name: V14, dtype: int64\n",
      "V15 : \n",
      "  4    1983\n",
      "5    1869\n",
      "3    1596\n",
      "6    1322\n",
      "2    1096\n",
      "7     601\n",
      "1     475\n",
      "8     341\n",
      "9     296\n",
      "0     243\n",
      "Name: V15, dtype: int64\n",
      "V16 : \n",
      "  0    3621\n",
      "1    2176\n",
      "2    1921\n",
      "3     927\n",
      "4     577\n",
      "5     338\n",
      "6     123\n",
      "7      83\n",
      "8      39\n",
      "9      17\n",
      "Name: V16, dtype: int64\n",
      "V17 : \n",
      "  4    2394\n",
      "3    2332\n",
      "2    1648\n",
      "5    1227\n",
      "0     711\n",
      "1     624\n",
      "6     526\n",
      "7     243\n",
      "9      64\n",
      "8      53\n",
      "Name: V17, dtype: int64\n",
      "V18 : \n",
      "  5    1740\n",
      "6    1472\n",
      "4    1448\n",
      "3    1128\n",
      "2    1099\n",
      "7    1090\n",
      "9     531\n",
      "0     494\n",
      "8     424\n",
      "1     396\n",
      "Name: V18, dtype: int64\n",
      "V19 : \n",
      "  0    2576\n",
      "2    2278\n",
      "1    2119\n",
      "3    1282\n",
      "4     641\n",
      "5     415\n",
      "6     248\n",
      "7     159\n",
      "9      57\n",
      "8      47\n",
      "Name: V19, dtype: int64\n",
      "V20 : \n",
      "  0    7031\n",
      "1    2009\n",
      "2     600\n",
      "5      94\n",
      "3      70\n",
      "4      18\n",
      "Name: V20, dtype: int64\n",
      "V21 : \n",
      "  0    6985\n",
      "1    1462\n",
      "2     815\n",
      "3     256\n",
      "4     144\n",
      "5     108\n",
      "6      21\n",
      "8      15\n",
      "9      13\n",
      "7       3\n",
      "Name: V21, dtype: int64\n",
      "V22 : \n",
      "  2    2508\n",
      "3    2348\n",
      "4    1573\n",
      "0    1164\n",
      "5     726\n",
      "1     699\n",
      "6     348\n",
      "7     295\n",
      "9     137\n",
      "8      24\n",
      "Name: V22, dtype: int64\n",
      "V23 : \n",
      "  2    2327\n",
      "0    1995\n",
      "3    1967\n",
      "1    1523\n",
      "4    1006\n",
      "5     524\n",
      "6     299\n",
      "7     119\n",
      "8      38\n",
      "9      24\n",
      "Name: V23, dtype: int64\n",
      "V24 : \n",
      "  2    2460\n",
      "3    1817\n",
      "1    1685\n",
      "0    1636\n",
      "4    1289\n",
      "5     564\n",
      "6     216\n",
      "7     101\n",
      "9      37\n",
      "8      17\n",
      "Name: V24, dtype: int64\n",
      "V25 : \n",
      "  0    2871\n",
      "1    2626\n",
      "2    2056\n",
      "3    1168\n",
      "4     452\n",
      "5     228\n",
      "6     152\n",
      "7     147\n",
      "9     106\n",
      "8      16\n",
      "Name: V25, dtype: int64\n",
      "V26 : \n",
      "  2    3009\n",
      "1    2549\n",
      "0    2275\n",
      "3    1300\n",
      "4     459\n",
      "5     129\n",
      "6      53\n",
      "9      26\n",
      "8      13\n",
      "7       9\n",
      "Name: V26, dtype: int64\n",
      "V27 : \n",
      "  2    2778\n",
      "3    2025\n",
      "0    1694\n",
      "1    1434\n",
      "4    1104\n",
      "5     588\n",
      "6     176\n",
      "8      11\n",
      "7       9\n",
      "9       3\n",
      "Name: V27, dtype: int64\n",
      "V28 : \n",
      "  5    1953\n",
      "4    1929\n",
      "3    1845\n",
      "2    1468\n",
      "6     800\n",
      "0     634\n",
      "1     478\n",
      "7     396\n",
      "9     202\n",
      "8     117\n",
      "Name: V28, dtype: int64\n",
      "V29 : \n",
      "  0    4376\n",
      "1    2658\n",
      "2    1434\n",
      "3     757\n",
      "4     378\n",
      "5     158\n",
      "6      37\n",
      "7      22\n",
      "9       1\n",
      "8       1\n",
      "Name: V29, dtype: int64\n",
      "V30 : \n",
      "  0    1663\n",
      "9    1255\n",
      "2    1177\n",
      "3     961\n",
      "4     908\n",
      "8     874\n",
      "5     863\n",
      "1     755\n",
      "7     710\n",
      "6     656\n",
      "Name: V30, dtype: int64\n",
      "V31 : \n",
      "  9    1663\n",
      "0    1255\n",
      "7    1185\n",
      "6     978\n",
      "5     912\n",
      "1     871\n",
      "4     834\n",
      "8     756\n",
      "2     712\n",
      "3     656\n",
      "Name: V31, dtype: int64\n",
      "V32 : \n",
      "  6    2822\n",
      "7    2338\n",
      "5    2106\n",
      "9     829\n",
      "4     740\n",
      "8     435\n",
      "3     400\n",
      "2     102\n",
      "0      30\n",
      "1      20\n",
      "Name: V32, dtype: int64\n",
      "V33 : \n",
      "  0    3078\n",
      "2    2999\n",
      "1    2454\n",
      "3     638\n",
      "4     531\n",
      "5     105\n",
      "6      14\n",
      "7       2\n",
      "9       1\n",
      "Name: V33, dtype: int64\n",
      "V34 : \n",
      "  2    2611\n",
      "0    2475\n",
      "3    1871\n",
      "1    1327\n",
      "4    1020\n",
      "5     288\n",
      "6     145\n",
      "7      40\n",
      "9      27\n",
      "8      18\n",
      "Name: V34, dtype: int64\n",
      "V35 : \n",
      "  7    2520\n",
      "5    1644\n",
      "6    1451\n",
      "9    1436\n",
      "8    1178\n",
      "4     628\n",
      "2     518\n",
      "3     315\n",
      "0     109\n",
      "1      23\n",
      "Name: V35, dtype: int64\n",
      "V36 : \n",
      "  2    2520\n",
      "4    1668\n",
      "0    1436\n",
      "3    1415\n",
      "1    1178\n",
      "5     639\n",
      "7     518\n",
      "6     316\n",
      "9     109\n",
      "8      23\n",
      "Name: V36, dtype: int64\n",
      "V37 : \n",
      "  0    2164\n",
      "2    1893\n",
      "3    1826\n",
      "1    1060\n",
      "4     981\n",
      "5     971\n",
      "6     512\n",
      "7     261\n",
      "9      78\n",
      "8      76\n",
      "Name: V37, dtype: int64\n",
      "V38 : \n",
      "  4    2207\n",
      "3    1989\n",
      "5    1585\n",
      "2    1569\n",
      "0     782\n",
      "6     671\n",
      "1     486\n",
      "7     337\n",
      "9     134\n",
      "8      62\n",
      "Name: V38, dtype: int64\n",
      "V39 : \n",
      "  3    2028\n",
      "2    1962\n",
      "4    1709\n",
      "0    1505\n",
      "1    1132\n",
      "5     828\n",
      "6     232\n",
      "7     170\n",
      "9     161\n",
      "8      95\n",
      "Name: V39, dtype: int64\n",
      "V40 : \n",
      "  0    5464\n",
      "1    2251\n",
      "2    1256\n",
      "3     429\n",
      "4     278\n",
      "5     119\n",
      "6      10\n",
      "8       7\n",
      "9       6\n",
      "7       2\n",
      "Name: V40, dtype: int64\n",
      "V41 : \n",
      "  0    8253\n",
      "1    1269\n",
      "2     188\n",
      "3      66\n",
      "4      38\n",
      "5       4\n",
      "6       2\n",
      "7       1\n",
      "9       1\n",
      "Name: V41, dtype: int64\n",
      "V42 : \n",
      "  3    3232\n",
      "4    3063\n",
      "5    1268\n",
      "2    1110\n",
      "6     646\n",
      "7     228\n",
      "8     121\n",
      "1      78\n",
      "9      38\n",
      "0      38\n",
      "Name: V42, dtype: int64\n",
      "V43 : \n",
      "  3    2556\n",
      "6    1587\n",
      "4    1539\n",
      "5     964\n",
      "1     938\n",
      "7     777\n",
      "2     731\n",
      "8     730\n",
      "Name: V43, dtype: int64\n",
      "V44 : \n",
      "  0    5903\n",
      "2    3562\n",
      "1     341\n",
      "3      16\n",
      "Name: V44, dtype: int64\n",
      "V45 : \n",
      "  0    9688\n",
      "2      53\n",
      "3      36\n",
      "4      26\n",
      "1       9\n",
      "6       5\n",
      "5       5\n",
      "Name: V45, dtype: int64\n",
      "V46 : \n",
      "  0    9613\n",
      "4     108\n",
      "3      92\n",
      "2       7\n",
      "1       2\n",
      "Name: V46, dtype: int64\n",
      "V47 : \n",
      "  0    4825\n",
      "6    3910\n",
      "5    1013\n",
      "7      64\n",
      "8       5\n",
      "4       4\n",
      "9       1\n",
      "Name: V47, dtype: int64\n",
      "V48 : \n",
      "  0    9730\n",
      "6      71\n",
      "5      17\n",
      "7       4\n",
      "Name: V48, dtype: int64\n",
      "V49 : \n",
      "  0    9460\n",
      "4     207\n",
      "6      79\n",
      "5      70\n",
      "3       4\n",
      "7       2\n",
      "Name: V49, dtype: int64\n",
      "V50 : \n",
      "  0    9808\n",
      "6      10\n",
      "7       2\n",
      "4       1\n",
      "9       1\n",
      "Name: V50, dtype: int64\n",
      "V51 : \n",
      "  0    9719\n",
      "2      62\n",
      "1      30\n",
      "3       9\n",
      "5       1\n",
      "4       1\n",
      "Name: V51, dtype: int64\n",
      "V52 : \n",
      "  0    9576\n",
      "3     142\n",
      "4      45\n",
      "5      42\n",
      "6      16\n",
      "7       1\n",
      "Name: V52, dtype: int64\n",
      "V53 : \n",
      "  0    9790\n",
      "4      11\n",
      "3       8\n",
      "2       7\n",
      "6       5\n",
      "1       1\n",
      "Name: V53, dtype: int64\n",
      "V54 : \n",
      "  0    9150\n",
      "3     481\n",
      "4      99\n",
      "2      63\n",
      "5      27\n",
      "6       2\n",
      "Name: V54, dtype: int64\n",
      "V55 : \n",
      "  0    9308\n",
      "4     172\n",
      "3     141\n",
      "6      65\n",
      "5      65\n",
      "2      51\n",
      "1      14\n",
      "7       4\n",
      "9       1\n",
      "8       1\n",
      "Name: V55, dtype: int64\n",
      "V56 : \n",
      "  0    9777\n",
      "2      24\n",
      "3       7\n",
      "1       6\n",
      "4       4\n",
      "6       2\n",
      "5       2\n",
      "Name: V56, dtype: int64\n",
      "V57 : \n",
      "  0    9744\n",
      "2      50\n",
      "3      28\n",
      "Name: V57, dtype: int64\n",
      "V58 : \n",
      "  0    9784\n",
      "6      32\n",
      "7       4\n",
      "5       1\n",
      "4       1\n",
      "Name: V58, dtype: int64\n",
      "V59 : \n",
      "  0    4464\n",
      "4    2142\n",
      "3    1541\n",
      "2     901\n",
      "5     263\n",
      "6     252\n",
      "1     245\n",
      "7      12\n",
      "8       2\n",
      "Name: V59, dtype: int64\n",
      "V60 : \n",
      "  0    9813\n",
      "2       5\n",
      "1       3\n",
      "3       1\n",
      "Name: V60, dtype: int64\n",
      "V61 : \n",
      "  0    9777\n",
      "4      18\n",
      "2       8\n",
      "3       6\n",
      "1       6\n",
      "5       4\n",
      "6       3\n",
      "Name: V61, dtype: int64\n",
      "V62 : \n",
      "  0    9573\n",
      "1     249\n",
      "Name: V62, dtype: int64\n",
      "V63 : \n",
      "  0    9740\n",
      "1      34\n",
      "2      30\n",
      "4       8\n",
      "3       7\n",
      "6       2\n",
      "5       1\n",
      "Name: V63, dtype: int64\n",
      "V64 : \n",
      "  0    9687\n",
      "4      68\n",
      "3      34\n",
      "2      31\n",
      "5       2\n",
      "Name: V64, dtype: int64\n",
      "V65 : \n",
      "  0    5903\n",
      "1    3909\n",
      "2      10\n",
      "Name: V65, dtype: int64\n",
      "V66 : \n",
      "  0    9688\n",
      "1     133\n",
      "5       1\n",
      "Name: V66, dtype: int64\n",
      "V67 : \n",
      "  0    9613\n",
      "1     209\n",
      "Name: V67, dtype: int64\n",
      "V68 : \n",
      "  0     4825\n",
      "1     4580\n",
      "2      384\n",
      "3       21\n",
      "4        8\n",
      "7        1\n",
      "6        1\n",
      "5        1\n",
      "12       1\n",
      "Name: V68, dtype: int64\n",
      "V69 : \n",
      "  0    9730\n",
      "1      83\n",
      "2       4\n",
      "3       3\n",
      "5       1\n",
      "4       1\n",
      "Name: V69, dtype: int64\n",
      "V70 : \n",
      "  0    9460\n",
      "1     337\n",
      "2      22\n",
      "3       2\n",
      "8       1\n",
      "Name: V70, dtype: int64\n",
      "V71 : \n",
      "  0    9808\n",
      "1       9\n",
      "2       3\n",
      "4       1\n",
      "3       1\n",
      "Name: V71, dtype: int64\n",
      "V72 : \n",
      "  0    9719\n",
      "1      96\n",
      "2       5\n",
      "3       2\n",
      "Name: V72, dtype: int64\n",
      "V73 : \n",
      "  0    9576\n",
      "1     184\n",
      "2      46\n",
      "3       7\n",
      "4       6\n",
      "6       2\n",
      "5       1\n",
      "Name: V73, dtype: int64\n",
      "V74 : \n",
      "  0    9790\n",
      "1      21\n",
      "2       7\n",
      "3       2\n",
      "6       1\n",
      "4       1\n",
      "Name: V74, dtype: int64\n",
      "V75 : \n",
      "  0    9150\n",
      "1     647\n",
      "2      24\n",
      "3       1\n",
      "Name: V75, dtype: int64\n",
      "V76 : \n",
      "  0    9308\n",
      "1     305\n",
      "2     170\n",
      "3      23\n",
      "4      13\n",
      "5       2\n",
      "8       1\n",
      "Name: V76, dtype: int64\n",
      "V77 : \n",
      "  0    9777\n",
      "1      45\n",
      "Name: V77, dtype: int64\n",
      "V78 : \n",
      "  0    9744\n",
      "1      78\n",
      "Name: V78, dtype: int64\n",
      "V79 : \n",
      "  0    9784\n",
      "1      34\n",
      "2       4\n",
      "Name: V79, dtype: int64\n",
      "V80 : \n",
      "  1    5116\n",
      "0    4464\n",
      "2     221\n",
      "3      11\n",
      "4       6\n",
      "5       2\n",
      "7       1\n",
      "6       1\n",
      "Name: V80, dtype: int64\n",
      "V81 : \n",
      "  0    9813\n",
      "1       9\n",
      "Name: V81, dtype: int64\n",
      "V82 : \n",
      "  0    9777\n",
      "1      40\n",
      "2       5\n",
      "Name: V82, dtype: int64\n",
      "V83 : \n",
      "  0    9573\n",
      "1     193\n",
      "2      53\n",
      "3       2\n",
      "4       1\n",
      "Name: V83, dtype: int64\n",
      "V84 : \n",
      "  0    9740\n",
      "1      81\n",
      "2       1\n",
      "Name: V84, dtype: int64\n",
      "V85 : \n",
      "  0    9687\n",
      "1     134\n",
      "2       1\n",
      "Name: V85, dtype: int64\n",
      "V86 : \n",
      "  0.0    5474\n",
      "1.0     348\n",
      "Name: V86, dtype: int64\n",
      "data : \n",
      "  train    5822\n",
      "test     4000\n",
      "Name: data, dtype: int64\n"
     ]
    }
   ],
   "source": [
    "for col in c_all.columns:\n",
    "    var = c_all[col].value_counts()\n",
    "    print(col,': \\n ' ,var)\n"
   ]
  },
  {
   "cell_type": "code",
   "execution_count": 11,
   "metadata": {},
   "outputs": [],
   "source": [
    "k =c_all['V1'].value_counts()"
   ]
  },
  {
   "cell_type": "code",
   "execution_count": 12,
   "metadata": {},
   "outputs": [],
   "source": [
    "for col in k.axes[0][0:27]:\n",
    "    var = 'V1_'+str(col)\n",
    "    c_all[var] = np.where(c_all['V1']== col, 1,0)"
   ]
  },
  {
   "cell_type": "code",
   "execution_count": 13,
   "metadata": {},
   "outputs": [],
   "source": [
    "c_all.drop(columns= 'V1',axis=1,inplace=True)"
   ]
  },
  {
   "cell_type": "code",
   "execution_count": 14,
   "metadata": {},
   "outputs": [],
   "source": [
    "k =c_all['V2'].value_counts()"
   ]
  },
  {
   "cell_type": "code",
   "execution_count": 15,
   "metadata": {},
   "outputs": [],
   "source": [
    "for col in k.axes[0][0:3]:\n",
    "    var = 'V2_'+str(col)\n",
    "    c_all[var] = np.where(c_all['V2']== col, 1,0)"
   ]
  },
  {
   "cell_type": "code",
   "execution_count": 16,
   "metadata": {},
   "outputs": [
    {
     "name": "stdout",
     "output_type": "stream",
     "text": [
      "<class 'pandas.core.frame.DataFrame'>\n",
      "Int64Index: 9822 entries, 0 to 3999\n",
      "Columns: 115 entries, V3 to V2_3\n",
      "dtypes: float64(1), int32(30), int64(83), object(1)\n",
      "memory usage: 7.6+ MB\n"
     ]
    }
   ],
   "source": [
    "c_all.drop(columns= 'V2',axis=1,inplace=True)\n",
    "c_all.info()"
   ]
  },
  {
   "cell_type": "code",
   "execution_count": 17,
   "metadata": {},
   "outputs": [],
   "source": [
    "k =c_all['V3'].value_counts()"
   ]
  },
  {
   "cell_type": "code",
   "execution_count": 18,
   "metadata": {},
   "outputs": [],
   "source": [
    "for col in k.axes[0][0:3]:\n",
    "    var = 'V3_'+str(col)\n",
    "    c_all[var] = np.where(c_all['V3']== col, 1,0)"
   ]
  },
  {
   "cell_type": "code",
   "execution_count": 20,
   "metadata": {},
   "outputs": [
    {
     "ename": "KeyError",
     "evalue": "\"labels ['V3'] not contained in axis\"",
     "output_type": "error",
     "traceback": [
      "\u001b[1;31m---------------------------------------------------------------------------\u001b[0m",
      "\u001b[1;31mKeyError\u001b[0m                                  Traceback (most recent call last)",
      "\u001b[1;32m<ipython-input-20-dc305517c51e>\u001b[0m in \u001b[0;36m<module>\u001b[1;34m()\u001b[0m\n\u001b[1;32m----> 1\u001b[1;33m \u001b[0mc_all\u001b[0m\u001b[1;33m.\u001b[0m\u001b[0mdrop\u001b[0m\u001b[1;33m(\u001b[0m\u001b[0mcolumns\u001b[0m\u001b[1;33m=\u001b[0m \u001b[1;34m'V3'\u001b[0m\u001b[1;33m,\u001b[0m\u001b[0maxis\u001b[0m\u001b[1;33m=\u001b[0m\u001b[1;36m1\u001b[0m\u001b[1;33m,\u001b[0m\u001b[0minplace\u001b[0m\u001b[1;33m=\u001b[0m\u001b[1;32mTrue\u001b[0m\u001b[1;33m)\u001b[0m\u001b[1;33m\u001b[0m\u001b[0m\n\u001b[0m\u001b[0;32m      2\u001b[0m \u001b[0mc_all\u001b[0m\u001b[1;33m.\u001b[0m\u001b[0mcolumns\u001b[0m\u001b[1;33m\u001b[0m\u001b[0m\n",
      "\u001b[1;32mE:\\Anaconda\\lib\\site-packages\\pandas\\core\\frame.py\u001b[0m in \u001b[0;36mdrop\u001b[1;34m(self, labels, axis, index, columns, level, inplace, errors)\u001b[0m\n\u001b[0;32m   3692\u001b[0m                                            \u001b[0mindex\u001b[0m\u001b[1;33m=\u001b[0m\u001b[0mindex\u001b[0m\u001b[1;33m,\u001b[0m \u001b[0mcolumns\u001b[0m\u001b[1;33m=\u001b[0m\u001b[0mcolumns\u001b[0m\u001b[1;33m,\u001b[0m\u001b[1;33m\u001b[0m\u001b[0m\n\u001b[0;32m   3693\u001b[0m                                            \u001b[0mlevel\u001b[0m\u001b[1;33m=\u001b[0m\u001b[0mlevel\u001b[0m\u001b[1;33m,\u001b[0m \u001b[0minplace\u001b[0m\u001b[1;33m=\u001b[0m\u001b[0minplace\u001b[0m\u001b[1;33m,\u001b[0m\u001b[1;33m\u001b[0m\u001b[0m\n\u001b[1;32m-> 3694\u001b[1;33m                                            errors=errors)\n\u001b[0m\u001b[0;32m   3695\u001b[0m \u001b[1;33m\u001b[0m\u001b[0m\n\u001b[0;32m   3696\u001b[0m     @rewrite_axis_style_signature('mapper', [('copy', True),\n",
      "\u001b[1;32mE:\\Anaconda\\lib\\site-packages\\pandas\\core\\generic.py\u001b[0m in \u001b[0;36mdrop\u001b[1;34m(self, labels, axis, index, columns, level, inplace, errors)\u001b[0m\n\u001b[0;32m   3106\u001b[0m         \u001b[1;32mfor\u001b[0m \u001b[0maxis\u001b[0m\u001b[1;33m,\u001b[0m \u001b[0mlabels\u001b[0m \u001b[1;32min\u001b[0m \u001b[0maxes\u001b[0m\u001b[1;33m.\u001b[0m\u001b[0mitems\u001b[0m\u001b[1;33m(\u001b[0m\u001b[1;33m)\u001b[0m\u001b[1;33m:\u001b[0m\u001b[1;33m\u001b[0m\u001b[0m\n\u001b[0;32m   3107\u001b[0m             \u001b[1;32mif\u001b[0m \u001b[0mlabels\u001b[0m \u001b[1;32mis\u001b[0m \u001b[1;32mnot\u001b[0m \u001b[1;32mNone\u001b[0m\u001b[1;33m:\u001b[0m\u001b[1;33m\u001b[0m\u001b[0m\n\u001b[1;32m-> 3108\u001b[1;33m                 \u001b[0mobj\u001b[0m \u001b[1;33m=\u001b[0m \u001b[0mobj\u001b[0m\u001b[1;33m.\u001b[0m\u001b[0m_drop_axis\u001b[0m\u001b[1;33m(\u001b[0m\u001b[0mlabels\u001b[0m\u001b[1;33m,\u001b[0m \u001b[0maxis\u001b[0m\u001b[1;33m,\u001b[0m \u001b[0mlevel\u001b[0m\u001b[1;33m=\u001b[0m\u001b[0mlevel\u001b[0m\u001b[1;33m,\u001b[0m \u001b[0merrors\u001b[0m\u001b[1;33m=\u001b[0m\u001b[0merrors\u001b[0m\u001b[1;33m)\u001b[0m\u001b[1;33m\u001b[0m\u001b[0m\n\u001b[0m\u001b[0;32m   3109\u001b[0m \u001b[1;33m\u001b[0m\u001b[0m\n\u001b[0;32m   3110\u001b[0m         \u001b[1;32mif\u001b[0m \u001b[0minplace\u001b[0m\u001b[1;33m:\u001b[0m\u001b[1;33m\u001b[0m\u001b[0m\n",
      "\u001b[1;32mE:\\Anaconda\\lib\\site-packages\\pandas\\core\\generic.py\u001b[0m in \u001b[0;36m_drop_axis\u001b[1;34m(self, labels, axis, level, errors)\u001b[0m\n\u001b[0;32m   3138\u001b[0m                 \u001b[0mnew_axis\u001b[0m \u001b[1;33m=\u001b[0m \u001b[0maxis\u001b[0m\u001b[1;33m.\u001b[0m\u001b[0mdrop\u001b[0m\u001b[1;33m(\u001b[0m\u001b[0mlabels\u001b[0m\u001b[1;33m,\u001b[0m \u001b[0mlevel\u001b[0m\u001b[1;33m=\u001b[0m\u001b[0mlevel\u001b[0m\u001b[1;33m,\u001b[0m \u001b[0merrors\u001b[0m\u001b[1;33m=\u001b[0m\u001b[0merrors\u001b[0m\u001b[1;33m)\u001b[0m\u001b[1;33m\u001b[0m\u001b[0m\n\u001b[0;32m   3139\u001b[0m             \u001b[1;32melse\u001b[0m\u001b[1;33m:\u001b[0m\u001b[1;33m\u001b[0m\u001b[0m\n\u001b[1;32m-> 3140\u001b[1;33m                 \u001b[0mnew_axis\u001b[0m \u001b[1;33m=\u001b[0m \u001b[0maxis\u001b[0m\u001b[1;33m.\u001b[0m\u001b[0mdrop\u001b[0m\u001b[1;33m(\u001b[0m\u001b[0mlabels\u001b[0m\u001b[1;33m,\u001b[0m \u001b[0merrors\u001b[0m\u001b[1;33m=\u001b[0m\u001b[0merrors\u001b[0m\u001b[1;33m)\u001b[0m\u001b[1;33m\u001b[0m\u001b[0m\n\u001b[0m\u001b[0;32m   3141\u001b[0m             \u001b[0mdropped\u001b[0m \u001b[1;33m=\u001b[0m \u001b[0mself\u001b[0m\u001b[1;33m.\u001b[0m\u001b[0mreindex\u001b[0m\u001b[1;33m(\u001b[0m\u001b[1;33m**\u001b[0m\u001b[1;33m{\u001b[0m\u001b[0maxis_name\u001b[0m\u001b[1;33m:\u001b[0m \u001b[0mnew_axis\u001b[0m\u001b[1;33m}\u001b[0m\u001b[1;33m)\u001b[0m\u001b[1;33m\u001b[0m\u001b[0m\n\u001b[0;32m   3142\u001b[0m             \u001b[1;32mtry\u001b[0m\u001b[1;33m:\u001b[0m\u001b[1;33m\u001b[0m\u001b[0m\n",
      "\u001b[1;32mE:\\Anaconda\\lib\\site-packages\\pandas\\core\\indexes\\base.py\u001b[0m in \u001b[0;36mdrop\u001b[1;34m(self, labels, errors)\u001b[0m\n\u001b[0;32m   4385\u001b[0m             \u001b[1;32mif\u001b[0m \u001b[0merrors\u001b[0m \u001b[1;33m!=\u001b[0m \u001b[1;34m'ignore'\u001b[0m\u001b[1;33m:\u001b[0m\u001b[1;33m\u001b[0m\u001b[0m\n\u001b[0;32m   4386\u001b[0m                 raise KeyError(\n\u001b[1;32m-> 4387\u001b[1;33m                     'labels %s not contained in axis' % labels[mask])\n\u001b[0m\u001b[0;32m   4388\u001b[0m             \u001b[0mindexer\u001b[0m \u001b[1;33m=\u001b[0m \u001b[0mindexer\u001b[0m\u001b[1;33m[\u001b[0m\u001b[1;33m~\u001b[0m\u001b[0mmask\u001b[0m\u001b[1;33m]\u001b[0m\u001b[1;33m\u001b[0m\u001b[0m\n\u001b[0;32m   4389\u001b[0m         \u001b[1;32mreturn\u001b[0m \u001b[0mself\u001b[0m\u001b[1;33m.\u001b[0m\u001b[0mdelete\u001b[0m\u001b[1;33m(\u001b[0m\u001b[0mindexer\u001b[0m\u001b[1;33m)\u001b[0m\u001b[1;33m\u001b[0m\u001b[0m\n",
      "\u001b[1;31mKeyError\u001b[0m: \"labels ['V3'] not contained in axis\""
     ]
    }
   ],
   "source": [
    "c_all.drop(columns= 'V3',axis=1,inplace=True)\n"
   ]
  },
  {
   "cell_type": "code",
   "execution_count": 21,
   "metadata": {},
   "outputs": [
    {
     "data": {
      "text/plain": [
       "Index(['V4', 'V5', 'V6', 'V7', 'V8', 'V9', 'V10', 'V11', 'V12', 'V13',\n",
       "       ...\n",
       "       'V1_2', 'V1_29', 'V1_40', 'V1_25', 'V2_1', 'V2_2', 'V2_3', 'V3_3',\n",
       "       'V3_2', 'V3_4'],\n",
       "      dtype='object', length=117)"
      ]
     },
     "execution_count": 21,
     "metadata": {},
     "output_type": "execute_result"
    }
   ],
   "source": [
    "c_all.columns"
   ]
  },
  {
   "cell_type": "code",
   "execution_count": 22,
   "metadata": {},
   "outputs": [],
   "source": [
    "k =c_all['V4'].value_counts()"
   ]
  },
  {
   "cell_type": "code",
   "execution_count": 23,
   "metadata": {},
   "outputs": [],
   "source": [
    "for col in k.axes[0][0:5]:\n",
    "    var = 'V4_'+str(col)\n",
    "    c_all[var] = np.where(c_all['V4']== col, 1,0)"
   ]
  },
  {
   "cell_type": "code",
   "execution_count": 24,
   "metadata": {},
   "outputs": [
    {
     "data": {
      "text/plain": [
       "Index(['V4', 'V5', 'V6', 'V7', 'V8', 'V9', 'V10', 'V11', 'V12', 'V13',\n",
       "       ...\n",
       "       'V2_2', 'V2_3', 'V3_3', 'V3_2', 'V3_4', 'V4_3', 'V4_2', 'V4_4', 'V4_5',\n",
       "       'V4_1'],\n",
       "      dtype='object', length=122)"
      ]
     },
     "execution_count": 24,
     "metadata": {},
     "output_type": "execute_result"
    }
   ],
   "source": [
    "c_all.columns"
   ]
  },
  {
   "cell_type": "code",
   "execution_count": 25,
   "metadata": {},
   "outputs": [],
   "source": [
    "k =c_all['V5'].value_counts()\n",
    "for col in k.axes[0][0:9]:\n",
    "    var = 'V5_'+str(col)\n",
    "    c_all[var] = np.where(c_all['V5']== col, 1,0)\n",
    "c_all.drop(columns='V5',axis=1,inplace=True)"
   ]
  },
  {
   "cell_type": "code",
   "execution_count": 26,
   "metadata": {},
   "outputs": [],
   "source": [
    "c_all.drop(columns='V4',axis=1,inplace=True)"
   ]
  },
  {
   "cell_type": "code",
   "execution_count": 27,
   "metadata": {},
   "outputs": [],
   "source": [
    "k =c_all['V6'].value_counts()\n",
    "for col in k.axes[0][0:5]:\n",
    "    var = 'V6_'+str(col)\n",
    "    c_all[var] = np.where(c_all['V6']== col, 1,0)"
   ]
  },
  {
   "cell_type": "code",
   "execution_count": 28,
   "metadata": {},
   "outputs": [],
   "source": [
    "c_all.drop(columns='V6',axis=1,inplace=True)"
   ]
  },
  {
   "cell_type": "code",
   "execution_count": 29,
   "metadata": {},
   "outputs": [],
   "source": [
    "k =c_all['V7'].value_counts()\n",
    "d0 = pd.get_dummies(c_all['V7'],prefix='V7')\n",
    "d1 = pd.get_dummies(c_all['V31'],prefix='V31')\n",
    "d2 = pd.get_dummies(c_all['V30'],prefix='V30')\n",
    "d3 = pd.get_dummies(c_all['V15'],prefix='V15')\n",
    "d4 = pd.get_dummies(c_all['V43'],prefix='V43')\n",
    "c_all = pd.concat([c_all,d0,d1,d2,d3,d4],axis=1)"
   ]
  },
  {
   "cell_type": "code",
   "execution_count": 30,
   "metadata": {},
   "outputs": [
    {
     "data": {
      "text/plain": [
       "0    9777\n",
       "1      40\n",
       "2       5\n",
       "Name: V82, dtype: int64"
      ]
     },
     "execution_count": 30,
     "metadata": {},
     "output_type": "execute_result"
    }
   ],
   "source": [
    "c_all['V82'].value_counts()"
   ]
  },
  {
   "cell_type": "code",
   "execution_count": 31,
   "metadata": {},
   "outputs": [],
   "source": [
    "c_all['V82'] = np.where(c_all['V82']== 0 ,0,1)"
   ]
  },
  {
   "cell_type": "code",
   "execution_count": 32,
   "metadata": {},
   "outputs": [
    {
     "data": {
      "text/plain": [
       "0    9777\n",
       "1      45\n",
       "Name: V82, dtype: int64"
      ]
     },
     "execution_count": 32,
     "metadata": {},
     "output_type": "execute_result"
    }
   ],
   "source": [
    "c_all['V82'].value_counts()"
   ]
  },
  {
   "cell_type": "code",
   "execution_count": 33,
   "metadata": {},
   "outputs": [
    {
     "data": {
      "text/plain": [
       "0    7031\n",
       "1    2009\n",
       "2     600\n",
       "5      94\n",
       "3      70\n",
       "4      18\n",
       "Name: V20, dtype: int64"
      ]
     },
     "execution_count": 33,
     "metadata": {},
     "output_type": "execute_result"
    }
   ],
   "source": [
    "c_all['V83'] = np.where(c_all['V83']== 0 ,0,1)\n",
    "c_all['V20'].value_counts()"
   ]
  },
  {
   "cell_type": "code",
   "execution_count": 35,
   "metadata": {},
   "outputs": [],
   "source": [
    "c_all['V20'] = np.where(c_all['V20']== 0 ,0,1)"
   ]
  },
  {
   "cell_type": "code",
   "execution_count": 36,
   "metadata": {},
   "outputs": [],
   "source": [
    "c_all['V41'] = np.where(c_all['V41']== 0 ,0,1)\n",
    "c_all['V45'] = np.where(c_all['V45']== 0 ,0,1)"
   ]
  },
  {
   "cell_type": "code",
   "execution_count": 37,
   "metadata": {},
   "outputs": [
    {
     "data": {
      "text/plain": [
       "0    9460\n",
       "4     207\n",
       "6      79\n",
       "5      70\n",
       "3       4\n",
       "7       2\n",
       "Name: V49, dtype: int64"
      ]
     },
     "execution_count": 37,
     "metadata": {},
     "output_type": "execute_result"
    }
   ],
   "source": [
    "c_all['V46'] = np.where(c_all['V46']== 0 ,0,1)\n",
    "c_all['V48'] = np.where(c_all['V48']== 0 ,0,1)\n",
    "c_all['V49'].value_counts()"
   ]
  },
  {
   "cell_type": "code",
   "execution_count": 38,
   "metadata": {},
   "outputs": [
    {
     "data": {
      "text/plain": [
       "0    9813\n",
       "2       5\n",
       "1       3\n",
       "3       1\n",
       "Name: V60, dtype: int64"
      ]
     },
     "execution_count": 38,
     "metadata": {},
     "output_type": "execute_result"
    }
   ],
   "source": [
    "c_all['V49'] = np.where(c_all['V49']== 0 ,0,1)\n",
    "c_all['V50'] = np.where(c_all['V50']== 0 ,0,1)\n",
    "c_all['V51'] = np.where(c_all['V51']== 0 ,0,1)\n",
    "c_all['V52'] = np.where(c_all['V52']== 0 ,0,1)\n",
    "c_all['V53'] = np.where(c_all['V53']== 0 ,0,1)\n",
    "c_all['V54'] = np.where(c_all['V54']== 0 ,0,1)\n",
    "c_all['V55'] = np.where(c_all['V55']== 0 ,0,1)\n",
    "c_all['V56'] = np.where(c_all['V56']== 0 ,0,1)\n",
    "c_all['V57'] = np.where(c_all['V57']== 0 ,0,1)\n",
    "c_all['V58'] = np.where(c_all['V58']== 0 ,0,1)\n",
    "c_all['V60'].value_counts()"
   ]
  },
  {
   "cell_type": "code",
   "execution_count": 39,
   "metadata": {},
   "outputs": [
    {
     "data": {
      "text/plain": [
       "0    9777\n",
       "4      18\n",
       "2       8\n",
       "3       6\n",
       "1       6\n",
       "5       4\n",
       "6       3\n",
       "Name: V61, dtype: int64"
      ]
     },
     "execution_count": 39,
     "metadata": {},
     "output_type": "execute_result"
    }
   ],
   "source": [
    "c_all.drop(columns='V60',axis=1,inplace=True)\n",
    "c_all['V61'].value_counts()"
   ]
  },
  {
   "cell_type": "code",
   "execution_count": 40,
   "metadata": {},
   "outputs": [
    {
     "data": {
      "text/plain": [
       "0    9740\n",
       "1      34\n",
       "2      30\n",
       "4       8\n",
       "3       7\n",
       "6       2\n",
       "5       1\n",
       "Name: V63, dtype: int64"
      ]
     },
     "execution_count": 40,
     "metadata": {},
     "output_type": "execute_result"
    }
   ],
   "source": [
    "c_all.drop(columns='V61',axis=1,inplace=True)\n",
    "c_all['V63'].value_counts()"
   ]
  },
  {
   "cell_type": "code",
   "execution_count": 41,
   "metadata": {},
   "outputs": [
    {
     "data": {
      "text/plain": [
       "0    9687\n",
       "4      68\n",
       "3      34\n",
       "2      31\n",
       "5       2\n",
       "Name: V64, dtype: int64"
      ]
     },
     "execution_count": 41,
     "metadata": {},
     "output_type": "execute_result"
    }
   ],
   "source": [
    "c_all.drop(columns='V63',axis=1,inplace=True)\n",
    "c_all['V64'].value_counts()"
   ]
  },
  {
   "cell_type": "code",
   "execution_count": 42,
   "metadata": {},
   "outputs": [
    {
     "data": {
      "text/plain": [
       "0    5903\n",
       "1    3909\n",
       "2      10\n",
       "Name: V65, dtype: int64"
      ]
     },
     "execution_count": 42,
     "metadata": {},
     "output_type": "execute_result"
    }
   ],
   "source": [
    "c_all.drop(columns='V64',axis=1,inplace=True)\n",
    "c_all['V65'].value_counts()"
   ]
  },
  {
   "cell_type": "code",
   "execution_count": 43,
   "metadata": {},
   "outputs": [
    {
     "data": {
      "text/plain": [
       "0    9688\n",
       "1     133\n",
       "5       1\n",
       "Name: V66, dtype: int64"
      ]
     },
     "execution_count": 43,
     "metadata": {},
     "output_type": "execute_result"
    }
   ],
   "source": [
    "c_all['V65'] = np.where(c_all['V65']== 0 ,0,1)\n",
    "c_all['V66'].value_counts()"
   ]
  },
  {
   "cell_type": "code",
   "execution_count": 44,
   "metadata": {},
   "outputs": [
    {
     "data": {
      "text/plain": [
       "0    9730\n",
       "1      83\n",
       "2       4\n",
       "3       3\n",
       "5       1\n",
       "4       1\n",
       "Name: V69, dtype: int64"
      ]
     },
     "execution_count": 44,
     "metadata": {},
     "output_type": "execute_result"
    }
   ],
   "source": [
    "c_all.drop(columns='V66',axis=1,inplace=True)\n",
    "c_all['V69'].value_counts()"
   ]
  },
  {
   "cell_type": "code",
   "execution_count": 45,
   "metadata": {},
   "outputs": [
    {
     "data": {
      "text/plain": [
       "0    9460\n",
       "1     337\n",
       "2      22\n",
       "3       2\n",
       "8       1\n",
       "Name: V70, dtype: int64"
      ]
     },
     "execution_count": 45,
     "metadata": {},
     "output_type": "execute_result"
    }
   ],
   "source": [
    "c_all['V69'] = np.where(c_all['V69']== 0 ,0,1)\n",
    "c_all['V70'].value_counts()"
   ]
  },
  {
   "cell_type": "code",
   "execution_count": 46,
   "metadata": {},
   "outputs": [
    {
     "data": {
      "text/plain": [
       "0    9576\n",
       "1     184\n",
       "2      46\n",
       "3       7\n",
       "4       6\n",
       "6       2\n",
       "5       1\n",
       "Name: V73, dtype: int64"
      ]
     },
     "execution_count": 46,
     "metadata": {},
     "output_type": "execute_result"
    }
   ],
   "source": [
    "c_all['V70'] = np.where(c_all['V70']== 0 ,0,1)\n",
    "c_all['V73'].value_counts()"
   ]
  },
  {
   "cell_type": "code",
   "execution_count": 47,
   "metadata": {},
   "outputs": [
    {
     "data": {
      "text/plain": [
       "0    9150\n",
       "1     647\n",
       "2      24\n",
       "3       1\n",
       "Name: V75, dtype: int64"
      ]
     },
     "execution_count": 47,
     "metadata": {},
     "output_type": "execute_result"
    }
   ],
   "source": [
    "c_all.drop(columns='V71',axis=1,inplace=True)\n",
    "c_all['V72'] = np.where(c_all['V72']== 0 ,0,1)\n",
    "c_all['V73'] = np.where(c_all['V73']== 0 ,0,1)\n",
    "c_all['V75'].value_counts()"
   ]
  },
  {
   "cell_type": "code",
   "execution_count": 48,
   "metadata": {},
   "outputs": [],
   "source": [
    "c_all.drop(columns='V74',axis=1,inplace=True)\n",
    "c_all['V75'] = np.where(c_all['V75']== 0 ,0,1)"
   ]
  },
  {
   "cell_type": "code",
   "execution_count": 49,
   "metadata": {},
   "outputs": [
    {
     "data": {
      "text/plain": [
       "0     4825\n",
       "1     4580\n",
       "2      384\n",
       "3       21\n",
       "4        8\n",
       "7        1\n",
       "6        1\n",
       "5        1\n",
       "12       1\n",
       "Name: V68, dtype: int64"
      ]
     },
     "execution_count": 49,
     "metadata": {},
     "output_type": "execute_result"
    }
   ],
   "source": [
    "c_all['V76'] = np.where(c_all['V76']== 0 ,0,1)\n",
    "c_all['V68'].value_counts()"
   ]
  },
  {
   "cell_type": "code",
   "execution_count": 50,
   "metadata": {},
   "outputs": [],
   "source": [
    "c_all.drop(columns='V79',axis=1,inplace=True)\n",
    "k = c_all['V68'].value_counts()\n",
    "for col in k.axes[0][0:2]:\n",
    "    var = 'V68_'+str(col)\n",
    "    c_all[var] = np.where(c_all['V68'] == col,1,0)"
   ]
  },
  {
   "cell_type": "code",
   "execution_count": 51,
   "metadata": {},
   "outputs": [],
   "source": [
    "k=c_all['V59'].value_counts()\n",
    "for col in k.axes[0][0:3]:\n",
    "    var = 'V59_'+str(col)\n",
    "    c_all[var] = np.where(c_all['V59'] == col,1,0)"
   ]
  },
  {
   "cell_type": "code",
   "execution_count": 52,
   "metadata": {},
   "outputs": [
    {
     "data": {
      "text/plain": [
       "Index(['V7', 'V8', 'V9', 'V10', 'V11', 'V12', 'V13', 'V14', 'V15', 'V16',\n",
       "       ...\n",
       "       'V43_6', 'V43_7', 'V43_8', 'V68_0', 'V68_1', 'V59_0', 'V59_4', 'V59_3',\n",
       "       'V80_1', 'V80_0'],\n",
       "      dtype='object', length=180)"
      ]
     },
     "execution_count": 52,
     "metadata": {},
     "output_type": "execute_result"
    }
   ],
   "source": [
    "k = c_all['V80'].value_counts()\n",
    "for col in k.axes[0][0:2]:\n",
    "    var = 'V80_'+str(col)\n",
    "    c_all[var] = np.where(c_all['V80'] == col,1,0)\n",
    "c_all.columns"
   ]
  },
  {
   "cell_type": "code",
   "execution_count": 53,
   "metadata": {},
   "outputs": [
    {
     "data": {
      "text/plain": [
       "0    5903\n",
       "2    3562\n",
       "1     341\n",
       "3      16\n",
       "Name: V44, dtype: int64"
      ]
     },
     "execution_count": 53,
     "metadata": {},
     "output_type": "execute_result"
    }
   ],
   "source": [
    "c_all['V84'].value_counts()\n",
    "c_all.drop(columns='V84',axis=1,inplace=True)\n",
    "c_all['V44'].value_counts()"
   ]
  },
  {
   "cell_type": "code",
   "execution_count": 54,
   "metadata": {},
   "outputs": [],
   "source": [
    "c_all['V85']=np.where(c_all['V85']==0,0,1)\n",
    "k =c_all['V47'].value_counts()"
   ]
  },
  {
   "cell_type": "code",
   "execution_count": 55,
   "metadata": {},
   "outputs": [],
   "source": [
    "for col in k.axes[0][0:3]:\n",
    "    var = 'V47_'+str(col)\n",
    "    c_all[var] = np.where(c_all['V47'] == col,1,0)"
   ]
  },
  {
   "cell_type": "code",
   "execution_count": 58,
   "metadata": {},
   "outputs": [],
   "source": [
    "k =c_all['V44'].value_counts()\n",
    "for col in k.axes[0][0:3]:\n",
    "    var = 'V44_'+str(col)\n",
    "    c_all[var] = np.where(c_all['V44'] == col,1,0)\n",
    "k =c_all['V42'].value_counts()\n",
    "for col in k.axes[0][0:4]:\n",
    "    var = 'V42_'+str(col)\n",
    "    c_all[var] = np.where(c_all['V42'] == col,1,0)"
   ]
  },
  {
   "cell_type": "code",
   "execution_count": 59,
   "metadata": {},
   "outputs": [
    {
     "data": {
      "text/plain": [
       "0    3460\n",
       "1    3391\n",
       "2    2294\n",
       "3     415\n",
       "4     220\n",
       "5      42\n",
       "Name: V8, dtype: int64"
      ]
     },
     "execution_count": 59,
     "metadata": {},
     "output_type": "execute_result"
    }
   ],
   "source": [
    "c_all['V8'].value_counts()"
   ]
  },
  {
   "cell_type": "code",
   "execution_count": 60,
   "metadata": {},
   "outputs": [
    {
     "data": {
      "text/plain": [
       "Index(['V7', 'V8', 'V9', 'V10', 'V11', 'V12', 'V13', 'V14', 'V15', 'V16',\n",
       "       ...\n",
       "       'V44_0', 'V44_2', 'V44_1', 'V42_3', 'V42_4', 'V42_5', 'V42_2', 'V8_0',\n",
       "       'V8_1', 'V8_2'],\n",
       "      dtype='object', length=192)"
      ]
     },
     "execution_count": 60,
     "metadata": {},
     "output_type": "execute_result"
    }
   ],
   "source": [
    "k =c_all['V8'].value_counts()\n",
    "for col in k.axes[0][0:3]:\n",
    "    var = 'V8_'+str(col)\n",
    "    c_all[var] = np.where(c_all['V8'] == col,1,0)\n",
    "c_all.columns"
   ]
  },
  {
   "cell_type": "code",
   "execution_count": 61,
   "metadata": {},
   "outputs": [
    {
     "data": {
      "text/plain": [
       "7    2800\n",
       "6    2015\n",
       "5    1628\n",
       "9    1345\n",
       "8     603\n",
       "4     550\n",
       "3     402\n",
       "2     252\n",
       "1     119\n",
       "0     108\n",
       "Name: V10, dtype: int64"
      ]
     },
     "execution_count": 61,
     "metadata": {},
     "output_type": "execute_result"
    }
   ],
   "source": [
    "k =c_all['V9'].value_counts()\n",
    "for col in k.axes[0][0:5]:\n",
    "    var = 'V9_'+str(col)\n",
    "    c_all[var] = np.where(c_all['V9'] == col,1,0)\n",
    "c_all['V10'].value_counts()"
   ]
  },
  {
   "cell_type": "code",
   "execution_count": 62,
   "metadata": {},
   "outputs": [
    {
     "data": {
      "text/plain": [
       "2    2944\n",
       "0    1981\n",
       "3    1965\n",
       "4    1140\n",
       "1     900\n",
       "5     421\n",
       "6     299\n",
       "7     100\n",
       "9      41\n",
       "8      31\n",
       "Name: V12, dtype: int64"
      ]
     },
     "execution_count": 62,
     "metadata": {},
     "output_type": "execute_result"
    }
   ],
   "source": [
    "k =c_all['V10'].value_counts()\n",
    "for col in k.axes[0][0:4]:\n",
    "    var = 'V10_'+str(col)\n",
    "    c_all[var] = np.where(c_all['V10'] == col,1,0)\n",
    "k =c_all['V11'].value_counts()\n",
    "for col in k.axes[0][0:3]:\n",
    "    var = 'V11_'+str(col)\n",
    "    c_all[var] = np.where(c_all['V11'] == col,1,0)\n",
    "c_all['V12'].value_counts()"
   ]
  },
  {
   "cell_type": "code",
   "execution_count": 63,
   "metadata": {},
   "outputs": [
    {
     "data": {
      "text/plain": [
       "4    1983\n",
       "5    1869\n",
       "3    1596\n",
       "6    1322\n",
       "2    1096\n",
       "7     601\n",
       "1     475\n",
       "8     341\n",
       "9     296\n",
       "0     243\n",
       "Name: V15, dtype: int64"
      ]
     },
     "execution_count": 63,
     "metadata": {},
     "output_type": "execute_result"
    }
   ],
   "source": [
    "k =c_all['V12'].value_counts()\n",
    "for col in k.axes[0][0:4]:\n",
    "    var = 'V12_'+str(col)\n",
    "    c_all[var] = np.where(c_all['V12'] == col,1,0)\n",
    "c_all['V15'].value_counts()"
   ]
  },
  {
   "cell_type": "code",
   "execution_count": 64,
   "metadata": {},
   "outputs": [
    {
     "data": {
      "text/plain": [
       "3    2517\n",
       "4    2493\n",
       "2    1798\n",
       "5    1043\n",
       "0     613\n",
       "1     608\n",
       "6     516\n",
       "7     160\n",
       "9      47\n",
       "8      27\n",
       "Name: V14, dtype: int64"
      ]
     },
     "execution_count": 64,
     "metadata": {},
     "output_type": "execute_result"
    }
   ],
   "source": [
    "k =c_all['V13'].value_counts()\n",
    "for col in k.axes[0][0:4]:\n",
    "    var = 'V13_'+str(col)\n",
    "    c_all[var] = np.where(c_all['V13'] == col,1,0)\n",
    "c_all['V14'].value_counts()"
   ]
  },
  {
   "cell_type": "code",
   "execution_count": 65,
   "metadata": {},
   "outputs": [
    {
     "data": {
      "text/plain": [
       "0    3621\n",
       "1    2176\n",
       "2    1921\n",
       "3     927\n",
       "4     577\n",
       "5     338\n",
       "6     123\n",
       "7      83\n",
       "8      39\n",
       "9      17\n",
       "Name: V16, dtype: int64"
      ]
     },
     "execution_count": 65,
     "metadata": {},
     "output_type": "execute_result"
    }
   ],
   "source": [
    "k =c_all['V14'].value_counts()\n",
    "for col in k.axes[0][0:7]:\n",
    "    var = 'V14_'+str(col)\n",
    "    c_all[var] = np.where(c_all['V14'] == col,1,0)\n",
    "c_all['V16'].value_counts()"
   ]
  },
  {
   "cell_type": "code",
   "execution_count": 66,
   "metadata": {},
   "outputs": [
    {
     "data": {
      "text/plain": [
       "0    2576\n",
       "2    2278\n",
       "1    2119\n",
       "3    1282\n",
       "4     641\n",
       "5     415\n",
       "6     248\n",
       "7     159\n",
       "9      57\n",
       "8      47\n",
       "Name: V19, dtype: int64"
      ]
     },
     "execution_count": 66,
     "metadata": {},
     "output_type": "execute_result"
    }
   ],
   "source": [
    "k =c_all['V16'].value_counts()\n",
    "for col in k.axes[0][0:4]:\n",
    "    var = 'V16_'+str(col)\n",
    "    c_all[var] = np.where(c_all['V16'] == col,1,0)\n",
    "k =c_all['V17'].value_counts()\n",
    "for col in k.axes[0][0:7]:\n",
    "    var = 'V17_'+str(col)\n",
    "    c_all[var] = np.where(c_all['V17'] == col,1,0)\n",
    "c_all['V19'].value_counts()"
   ]
  },
  {
   "cell_type": "code",
   "execution_count": 67,
   "metadata": {},
   "outputs": [],
   "source": [
    "v1 = pd.get_dummies(c_all['V18'],prefix='V18_')\n",
    "c_all = pd.concat([c_all,v1],axis=1)\n",
    "k =c_all['V19'].value_counts()\n",
    "for col in k.axes[0][0:4]:\n",
    "    var = 'V19_'+str(col)\n",
    "    c_all[var] = np.where(c_all['V19'] == col,1,0)"
   ]
  },
  {
   "cell_type": "code",
   "execution_count": 68,
   "metadata": {},
   "outputs": [
    {
     "data": {
      "text/plain": [
       "2    3009\n",
       "1    2549\n",
       "0    2275\n",
       "3    1300\n",
       "4     459\n",
       "5     129\n",
       "6      53\n",
       "9      26\n",
       "8      13\n",
       "7       9\n",
       "Name: V26, dtype: int64"
      ]
     },
     "execution_count": 68,
     "metadata": {},
     "output_type": "execute_result"
    }
   ],
   "source": [
    "k =c_all['V21'].value_counts()\n",
    "for col in k.axes[0][0:3]:\n",
    "    var = 'V21_'+str(col)\n",
    "    c_all[var] = np.where(c_all['V21'] == col,1,0)\n",
    "k =c_all['V22'].value_counts()\n",
    "for col in k.axes[0][0:4]:\n",
    "    var = 'V22_'+str(col)\n",
    "    c_all[var] = np.where(c_all['V22'] == col,1,0)\n",
    "k =c_all['V23'].value_counts()\n",
    "for col in k.axes[0][0:5]:\n",
    "    var = 'V23_'+str(col)\n",
    "    c_all[var] = np.where(c_all['V23'] == col,1,0)\n",
    "k =c_all['V24'].value_counts()\n",
    "for col in k.axes[0][0:5]:\n",
    "    var = 'V24_'+str(col)\n",
    "    c_all[var] = np.where(c_all['V24'] == col,1,0)\n",
    "k =c_all['V25'].value_counts()\n",
    "for col in k.axes[0][0:4]:\n",
    "    var = 'V25_'+str(col)\n",
    "    c_all[var] = np.where(c_all['V25'] == col,1,0)\n",
    "c_all['V26'].value_counts()"
   ]
  },
  {
   "cell_type": "code",
   "execution_count": 70,
   "metadata": {},
   "outputs": [
    {
     "data": {
      "text/plain": [
       "0    4376\n",
       "1    2658\n",
       "2    1434\n",
       "3     757\n",
       "4     378\n",
       "5     158\n",
       "6      37\n",
       "7      22\n",
       "9       1\n",
       "8       1\n",
       "Name: V29, dtype: int64"
      ]
     },
     "execution_count": 70,
     "metadata": {},
     "output_type": "execute_result"
    }
   ],
   "source": [
    "k =c_all['V26'].value_counts()\n",
    "for col in k.axes[0][0:4]:\n",
    "    var = 'V26_'+str(col)\n",
    "    c_all[var] = np.where(c_all['V26'] == col,1,0)\n",
    "c_all['V29'].value_counts()"
   ]
  },
  {
   "cell_type": "code",
   "execution_count": 71,
   "metadata": {},
   "outputs": [],
   "source": [
    "k =c_all['V27'].value_counts()\n",
    "for col in k.axes[0][0:5]:\n",
    "    var = 'V27_'+str(col)\n",
    "    c_all[var] = np.where(c_all['V27'] == col,1,0)\n",
    "v2 = pd.get_dummies(c_all['V28'] ,drop_first= True,prefix='V28')\n",
    "c_all = pd.concat([c_all,v2],1)"
   ]
  },
  {
   "cell_type": "code",
   "execution_count": 72,
   "metadata": {},
   "outputs": [
    {
     "data": {
      "text/plain": [
       "2    2611\n",
       "0    2475\n",
       "3    1871\n",
       "1    1327\n",
       "4    1020\n",
       "5     288\n",
       "6     145\n",
       "7      40\n",
       "9      27\n",
       "8      18\n",
       "Name: V34, dtype: int64"
      ]
     },
     "execution_count": 72,
     "metadata": {},
     "output_type": "execute_result"
    }
   ],
   "source": [
    "k =c_all['V29'].value_counts()\n",
    "for col in k.axes[0][0:4]:\n",
    "    var = 'V29_'+str(col)\n",
    "    c_all[var] = np.where(c_all['V29'] == col,1,0)\n",
    "c_all['V34'].value_counts()"
   ]
  },
  {
   "cell_type": "code",
   "execution_count": 74,
   "metadata": {},
   "outputs": [],
   "source": [
    "k =c_all['V32'].value_counts()\n",
    "for col in k.axes[0][0:3]:\n",
    "    var = 'V32_'+str(col)\n",
    "    c_all[var] = np.where(c_all['V32'] == col,1,0)\n",
    "k =c_all['V33'].value_counts()\n",
    "for col in k.axes[0][0:4]:\n",
    "    var = 'V33_'+str(col)\n",
    "    c_all[var] = np.where(c_all['V33'] == col,1,0)\n",
    "c_all.drop(['V33_3'],1,inplace=True)\n",
    "k =c_all['V34'].value_counts()\n",
    "for col in k.axes[0][0:5]:\n",
    "    var = 'V34_'+str(col)\n",
    "    c_all[var] = np.where(c_all['V34'] == col,1,0)\n",
    "k =c_all['V35'].value_counts()\n",
    "for col in k.axes[0][0:5]:\n",
    "    var = 'V35_'+str(col)\n",
    "    c_all[var] = np.where(c_all['V35'] == col,1,0)\n",
    "k =c_all['V36'].value_counts()\n",
    "for col in k.axes[0][0:4]:\n",
    "    var = 'V36_'+str(col)\n",
    "    c_all[var] = np.where(c_all['V36'] == col,1,0)\n",
    "k =c_all['V37'].value_counts()\n",
    "for col in k.axes[0][0:4]:\n",
    "    var = 'V36_'+str(col)\n",
    "    c_all[var] = np.where(c_all['V37'] == col,1,0)\n",
    "k =c_all['V38'].value_counts()\n",
    "for col in k.axes[0][0:8]:\n",
    "    var = 'V38_'+str(col)\n",
    "    c_all[var] = np.where(c_all['V38'] == col,1,0)\n",
    "k =c_all['V39'].value_counts()\n",
    "for col in k.axes[0][0:5]:\n",
    "    var = 'V39_'+str(col)\n",
    "    c_all[var] = np.where(c_all['V39'] == col,1,0)"
   ]
  },
  {
   "cell_type": "code",
   "execution_count": 75,
   "metadata": {},
   "outputs": [],
   "source": [
    "k =c_all['V40'].value_counts()\n",
    "for col in k.axes[0][0:4]:\n",
    "    var = 'V40_'+str(col)\n",
    "    c_all[var] = np.where(c_all['V40'] == col,1,0)"
   ]
  },
  {
   "cell_type": "code",
   "execution_count": 76,
   "metadata": {},
   "outputs": [],
   "source": [
    "c_all.drop(['V8'],1,inplace=True)\n",
    "c_all.drop(['V9'],1,inplace=True)\n",
    "c_all.drop(['V10'],1,inplace=True)\n",
    "c_all.drop(['V11'],1,inplace=True)\n",
    "c_all.drop(['V12'],1,inplace=True)\n",
    "c_all.drop(['V13'],1,inplace=True)\n",
    "c_all.drop(['V14'],1,inplace=True)\n",
    "c_all.drop(['V15'],1,inplace=True)\n",
    "c_all.drop(['V16'],1,inplace=True)\n",
    "c_all.drop(['V17'],1,inplace=True)\n",
    "c_all.drop(['V18'],1,inplace=True)\n",
    "c_all.drop(['V19'],1,inplace=True)\n",
    "c_all.drop(['V21'],1,inplace=True)\n",
    "c_all.drop(['V22'],1,inplace=True)\n",
    "c_all.drop(['V23'],1,inplace=True)\n",
    "c_all.drop(['V24'],1,inplace=True)\n",
    "c_all.drop(['V25'],1,inplace=True)\n",
    "c_all.drop(['V26'],1,inplace=True)\n",
    "c_all.drop(['V27'],1,inplace=True)\n",
    "c_all.drop(['V28'],1,inplace=True)\n",
    "c_all.drop(['V29'],1,inplace=True)\n",
    "c_all.drop(['V32'],1,inplace=True)\n",
    "c_all.drop(['V33'],1,inplace=True)\n",
    "c_all.drop(['V34'],1,inplace=True)\n",
    "c_all.drop(['V35'],1,inplace=True)\n",
    "c_all.drop(['V36'],1,inplace=True)\n",
    "c_all.drop(['V37'],1,inplace=True)\n",
    "c_all.drop(['V38'],1,inplace=True)\n",
    "c_all.drop(['V39'],1,inplace=True)\n",
    "c_all.drop(['V40'],1,inplace=True)\n",
    "c_all.drop(['V31'],1,inplace=True)\n",
    "c_all.drop(['V30'],1,inplace=True)\n",
    "c_all.drop(['V43'],1,inplace=True)\n",
    "c_all.drop(['V59'],1,inplace=True)\n",
    "c_all.drop(['V47'],1,inplace=True)\n",
    "c_all.drop(['V62'],1,inplace=True)\n",
    "c_all.drop(['V68'],1,inplace=True)\n",
    "c_all.drop(['V67'],1,inplace=True)\n",
    "c_all.drop(['V77'],1,inplace=True)\n",
    "c_all.drop(['V78'],1,inplace=True)\n",
    "c_all.drop(['V80'],1,inplace=True)\n",
    "c_all.drop(['V44'],1,inplace=True)\n",
    "c_all.drop(['V42'],1,inplace=True)"
   ]
  },
  {
   "cell_type": "code",
   "execution_count": 77,
   "metadata": {},
   "outputs": [],
   "source": [
    "from sklearn.decomposition import PCA\n",
    "c_train=c_all[c_all['data']=='train']\n",
    "c_train = c_train.drop(['data'],1)"
   ]
  },
  {
   "cell_type": "code",
   "execution_count": 78,
   "metadata": {},
   "outputs": [],
   "source": [
    "c_test=c_all[c_all['data']=='test']"
   ]
  },
  {
   "cell_type": "code",
   "execution_count": 79,
   "metadata": {},
   "outputs": [],
   "source": [
    "c_test = c_test.drop(['data'],1)\n",
    "c_test = c_test.drop(['V86'],1)"
   ]
  },
  {
   "cell_type": "code",
   "execution_count": 80,
   "metadata": {},
   "outputs": [
    {
     "name": "stderr",
     "output_type": "stream",
     "text": [
      "E:\\Anaconda\\lib\\site-packages\\sklearn\\cross_validation.py:41: DeprecationWarning: This module was deprecated in version 0.18 in favor of the model_selection module into which all the refactored classes and functions are moved. Also note that the interface of the new CV iterators are different from that of this module. This module will be removed in 0.20.\n",
      "  \"This module will be removed in 0.20.\", DeprecationWarning)\n"
     ]
    }
   ],
   "source": [
    "from sklearn.cross_validation import train_test_split,KFold"
   ]
  },
  {
   "cell_type": "code",
   "execution_count": 81,
   "metadata": {},
   "outputs": [],
   "source": [
    "pca_train, pca_test = train_test_split(c_train, test_size = 0.3,random_state=2)"
   ]
  },
  {
   "cell_type": "code",
   "execution_count": 82,
   "metadata": {},
   "outputs": [],
   "source": [
    "pca = PCA(.95)"
   ]
  },
  {
   "cell_type": "code",
   "execution_count": 83,
   "metadata": {},
   "outputs": [],
   "source": [
    "x_pca_train = pca_train.drop(['V86'],1)\n",
    "y_pca_train = pca_train['V86']\n",
    "x_pca_test = pca_test.drop(['V86'],1)\n",
    "y_pca_test = pca_test['V86']"
   ]
  },
  {
   "cell_type": "code",
   "execution_count": 84,
   "metadata": {},
   "outputs": [
    {
     "data": {
      "text/plain": [
       "PCA(copy=True, iterated_power='auto', n_components=0.95, random_state=None,\n",
       "  svd_solver='auto', tol=0.0, whiten=False)"
      ]
     },
     "execution_count": 84,
     "metadata": {},
     "output_type": "execute_result"
    }
   ],
   "source": [
    "pca.fit(x_pca_train,y_pca_train)"
   ]
  },
  {
   "cell_type": "code",
   "execution_count": 85,
   "metadata": {},
   "outputs": [
    {
     "data": {
      "text/plain": [
       "140"
      ]
     },
     "execution_count": 85,
     "metadata": {},
     "output_type": "execute_result"
    }
   ],
   "source": [
    "pca.n_components_"
   ]
  },
  {
   "cell_type": "code",
   "execution_count": 86,
   "metadata": {},
   "outputs": [],
   "source": [
    "x_pca_train = pca.transform(x_pca_train)\n",
    "x_pca_test = pca.transform(x_pca_test)"
   ]
  },
  {
   "cell_type": "code",
   "execution_count": 88,
   "metadata": {},
   "outputs": [],
   "source": [
    "from sklearn.linear_model import LogisticRegression\n",
    "lr = LogisticRegression(class_weight='balanced')"
   ]
  },
  {
   "cell_type": "code",
   "execution_count": 89,
   "metadata": {},
   "outputs": [
    {
     "data": {
      "text/plain": [
       "LogisticRegression(C=1.0, class_weight='balanced', dual=False,\n",
       "          fit_intercept=True, intercept_scaling=1, max_iter=100,\n",
       "          multi_class='ovr', n_jobs=1, penalty='l2', random_state=None,\n",
       "          solver='liblinear', tol=0.0001, verbose=0, warm_start=False)"
      ]
     },
     "execution_count": 89,
     "metadata": {},
     "output_type": "execute_result"
    }
   ],
   "source": [
    "lr.fit(x_pca_train,y_pca_train)"
   ]
  },
  {
   "cell_type": "code",
   "execution_count": 90,
   "metadata": {},
   "outputs": [],
   "source": [
    "pred = lr.predict(x_pca_test)"
   ]
  },
  {
   "cell_type": "code",
   "execution_count": 91,
   "metadata": {},
   "outputs": [],
   "source": [
    "from sklearn.metrics import fbeta_score"
   ]
  },
  {
   "cell_type": "code",
   "execution_count": 92,
   "metadata": {},
   "outputs": [
    {
     "data": {
      "text/plain": [
       "0.5199578054514492"
      ]
     },
     "execution_count": 92,
     "metadata": {},
     "output_type": "execute_result"
    }
   ],
   "source": [
    "fbeta_score(y_pca_test, pred, average='macro', beta=0.5)"
   ]
  },
  {
   "cell_type": "code",
   "execution_count": 93,
   "metadata": {},
   "outputs": [],
   "source": [
    "c_test = pca.transform(c_test)"
   ]
  },
  {
   "cell_type": "code",
   "execution_count": 94,
   "metadata": {},
   "outputs": [],
   "source": [
    "test = lr.predict(c_test)"
   ]
  },
  {
   "cell_type": "code",
   "execution_count": 95,
   "metadata": {},
   "outputs": [],
   "source": [
    "df = pd.DataFrame(x_pca_train)"
   ]
  },
  {
   "cell_type": "code",
   "execution_count": 96,
   "metadata": {},
   "outputs": [],
   "source": [
    "from sklearn import svm\n",
    "m = svm.SVC(class_weight='balanced',kernel='linear',probability=True)"
   ]
  },
  {
   "cell_type": "code",
   "execution_count": 97,
   "metadata": {},
   "outputs": [
    {
     "data": {
      "text/plain": [
       "SVC(C=1.0, cache_size=200, class_weight='balanced', coef0=0.0,\n",
       "  decision_function_shape='ovr', degree=3, gamma='auto', kernel='linear',\n",
       "  max_iter=-1, probability=True, random_state=None, shrinking=True,\n",
       "  tol=0.001, verbose=False)"
      ]
     },
     "execution_count": 97,
     "metadata": {},
     "output_type": "execute_result"
    }
   ],
   "source": [
    "m.fit(df,y_pca_train)"
   ]
  },
  {
   "cell_type": "code",
   "execution_count": 99,
   "metadata": {},
   "outputs": [],
   "source": [
    "m_predict = m.predict_proba(x_pca_test)\n",
    "prob_score = pd.Series(list(zip(*m.predict_proba(x_pca_train)))[1])\n",
    "KS_cut=[]\n",
    "cutoffs= [0.1,0.2,0.3,0.4,0.5,0.6,0.7,0.8,0.9]\n",
    "for cutoff in cutoffs:\n",
    "    predicted=pd.Series([0]*len(y_pca_train))\n",
    "    predicted[prob_score>cutoff]=1\n",
    "    df=pd.DataFrame(list(zip(y_pca_train,predicted)),columns=[\"real\",\"predicted\"])\n",
    "    TP=len(df[(df[\"real\"]==1) &(df[\"predicted\"]==1) ])\n",
    "    FP=len(df[(df[\"real\"]==0) &(df[\"predicted\"]==1) ])\n",
    "    TN=len(df[(df[\"real\"]==0) &(df[\"predicted\"]==0) ])\n",
    "    FN=len(df[(df[\"real\"]==1) &(df[\"predicted\"]==0) ])\n",
    "    P=TP+FN\n",
    "    N=TN+FP\n",
    "    KS=(TP/P)-(FP/N)\n",
    "    KS_cut.append(KS)"
   ]
  },
  {
   "cell_type": "code",
   "execution_count": 100,
   "metadata": {},
   "outputs": [],
   "source": [
    "cutoff_data=pd.DataFrame(list(zip(cutoffs,KS_cut)),columns=[\"cutoff\",\"KS\"])\n",
    "\n",
    "KS_cutoff=cutoff_data[cutoff_data[\"KS\"]==cutoff_data[\"KS\"].max()][\"cutoff\"]"
   ]
  },
  {
   "cell_type": "code",
   "execution_count": 101,
   "metadata": {},
   "outputs": [
    {
     "data": {
      "text/plain": [
       "0    0.1\n",
       "Name: cutoff, dtype: float64"
      ]
     },
     "execution_count": 101,
     "metadata": {},
     "output_type": "execute_result"
    }
   ],
   "source": [
    "KS_cutoff"
   ]
  },
  {
   "cell_type": "code",
   "execution_count": 102,
   "metadata": {},
   "outputs": [],
   "source": [
    "prob_score_test=pd.Series(list(zip(*m.predict_proba(x_pca_test)))[1])"
   ]
  },
  {
   "cell_type": "code",
   "execution_count": 103,
   "metadata": {},
   "outputs": [],
   "source": [
    "predicted_test=pd.Series([0]*len(y_pca_test))\n",
    "predicted_test[prob_score_test>float(KS_cutoff)]=1"
   ]
  },
  {
   "cell_type": "code",
   "execution_count": 104,
   "metadata": {},
   "outputs": [
    {
     "data": {
      "text/plain": [
       "0.5617284751474094"
      ]
     },
     "execution_count": 104,
     "metadata": {},
     "output_type": "execute_result"
    }
   ],
   "source": [
    "fbeta_score(y_pca_test, predicted_test, average='macro', beta=0.5)"
   ]
  }
 ],
 "metadata": {
  "kernelspec": {
   "display_name": "Python 3",
   "language": "python",
   "name": "python3"
  },
  "language_info": {
   "codemirror_mode": {
    "name": "ipython",
    "version": 3
   },
   "file_extension": ".py",
   "mimetype": "text/x-python",
   "name": "python",
   "nbconvert_exporter": "python",
   "pygments_lexer": "ipython3",
   "version": "3.6.5"
  }
 },
 "nbformat": 4,
 "nbformat_minor": 2
}
